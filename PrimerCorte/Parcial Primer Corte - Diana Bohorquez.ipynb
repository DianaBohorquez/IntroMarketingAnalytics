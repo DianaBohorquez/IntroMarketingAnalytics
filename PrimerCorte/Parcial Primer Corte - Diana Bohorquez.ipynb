{
  "cells": [
    {
      "cell_type": "markdown",
      "metadata": {
        "id": "XK8g2iilhia2"
      },
      "source": [
        "# 📊 Parcial – Análisis de Redes Sociales (Primer Corte)\n",
        "\n",
        "## 🎯 Objetivo\n",
        "Evaluar tu dominio de **filtros** y **agrupaciones** en Python (sin pivots ni gráficos) y tu capacidad de **análisis de negocio** en métricas de marketing: **CAC, LTV, churn rate, funnel, unit economics (LTV/CAC)**.\n",
        "\n",
        "---\n",
        "## 🧩 Contexto de Negocio (Caso Real)\n",
        "**StartUp SaaS en crecimiento.** Vende planes **Basic, Pro, Enterprise** en **LatAm, North America, Europe, APAC**. Los canales de adquisición son: **meta_ads, google_ads, organic_search, outbound_sales**. Los usuarios se registran por **web** o **mobile_app**.\n",
        "\n",
        "La dirección quiere decidir **dónde invertir el presupuesto del próximo trimestre**. Te piden:\n",
        "\n",
        "1) Identificar **canales más rentables** (relación **LTV/CAC** y churn).  \n",
        "2) Detectar **regiones** con mayor **potencial de crecimiento** y/o **riesgo**.  \n",
        "3) Evaluar el desempeño por **tier** (Basic, Pro, Enterprise).  \n",
        "4) Recomendar **asignación de presupuesto** por **canal + tier**.\n",
        "\n",
        "---\n",
        "## 📂 Instrucciones\n",
        "- Trabaja únicamente con **filtros** y **agrupaciones**. **No uses** tablas dinámicas (pivot), merges ni gráficos.\n",
        "- Archivo a usar: `clientes_marketing.csv`.\n",
        "- Escribe **código + interpretación breve** para cada inciso.\n",
        "- Si el enunciado dice **“Agrupa”**, usa `groupby`. Si dice **“Filtra”**, usa filtrado con máscaras booleanas. Si dice **“Ambas”**, realiza primero el **filtro** y luego la **agrupación**.\n",
        "\n",
        "---\n"
      ],
      "id": "XK8g2iilhia2"
    },
    {
      "cell_type": "markdown",
      "source": [
        "## Descargar Tabla (Correr una vez)"
      ],
      "metadata": {
        "id": "RUVAoxsVoYyx"
      },
      "id": "RUVAoxsVoYyx"
    },
    {
      "cell_type": "code",
      "source": [
        "!wget https://github.com/javierherrera1996/IntroMarketingAnalytics/raw/refs/heads/main/PrimerCorte/cac_ltv_model.csv"
      ],
      "metadata": {
        "colab": {
          "base_uri": "https://localhost:8080/"
        },
        "id": "ddFB7iT9obhw",
        "outputId": "36049d91-44fe-4e6d-d893-878fd6d66fb2"
      },
      "id": "ddFB7iT9obhw",
      "execution_count": 1,
      "outputs": [
        {
          "output_type": "stream",
          "name": "stdout",
          "text": [
            "--2025-09-17 23:44:53--  https://github.com/javierherrera1996/IntroMarketingAnalytics/raw/refs/heads/main/PrimerCorte/cac_ltv_model.csv\n",
            "Resolving github.com (github.com)... 20.27.177.113\n",
            "Connecting to github.com (github.com)|20.27.177.113|:443... connected.\n",
            "HTTP request sent, awaiting response... 302 Found\n",
            "Location: https://raw.githubusercontent.com/javierherrera1996/IntroMarketingAnalytics/refs/heads/main/PrimerCorte/cac_ltv_model.csv [following]\n",
            "--2025-09-17 23:44:53--  https://raw.githubusercontent.com/javierherrera1996/IntroMarketingAnalytics/refs/heads/main/PrimerCorte/cac_ltv_model.csv\n",
            "Resolving raw.githubusercontent.com (raw.githubusercontent.com)... 185.199.111.133, 185.199.108.133, 185.199.110.133, ...\n",
            "Connecting to raw.githubusercontent.com (raw.githubusercontent.com)|185.199.111.133|:443... connected.\n",
            "HTTP request sent, awaiting response... 200 OK\n",
            "Length: 661398 (646K) [text/plain]\n",
            "Saving to: ‘cac_ltv_model.csv’\n",
            "\n",
            "cac_ltv_model.csv   100%[===================>] 645.90K  2.66MB/s    in 0.2s    \n",
            "\n",
            "2025-09-17 23:44:54 (2.66 MB/s) - ‘cac_ltv_model.csv’ saved [661398/661398]\n",
            "\n"
          ]
        }
      ]
    },
    {
      "cell_type": "markdown",
      "source": [
        "## Importar Datos"
      ],
      "metadata": {
        "id": "nfDk-HYXoVuq"
      },
      "id": "nfDk-HYXoVuq"
    },
    {
      "cell_type": "code",
      "metadata": {
        "id": "QJpV_gqfhia4"
      },
      "execution_count": 13,
      "outputs": [],
      "source": [
        "import pandas as pd\n",
        "pd.set_option('display.float_format', lambda x: f'{x:,.2f}')\n",
        "\n",
        "# 1) Cargar dataset\n",
        "df = pd.read_csv('cac_ltv_model.csv')\n"
      ],
      "id": "QJpV_gqfhia4"
    },
    {
      "cell_type": "markdown",
      "metadata": {
        "id": "dgC-Da02hia5"
      },
      "source": [
        "### ✅ Variables relevantes (recordatorio)\n",
        "- `acquisition_channel`, `signup_source`, `region`, `customer_tier`\n",
        "- `plan_price`, `discount_rate`, `arpu`, `gross_margin`, `churn_rate`\n",
        "- `contract_length_months`, `marketing_spend`\n",
        "\n",
        "### 🧮 Fórmulas de negocio (a usar en el examen)\n",
        "- **CAC por canal**:  \n",
        "    $$ CAC = \\frac{\\text{Total Marketing Spend}}{\\text{Clientes adquiridos}} $$\n",
        "  \n",
        "- **LTV por observación** (aprox.):  \n",
        "   $$ LTV = ARPU \\times contract\\_length\\_months \\times gross\\_margin \\times (1 - churn\\_rate) $$\n",
        "\n",
        "- **Unit economics**:  \n",
        "  $$ LTV/CAC   $$(ideal \\> 3 como regla general de SaaS)\n",
        "\n",
        "---\n",
        "\n"
      ],
      "id": "dgC-Da02hia5"
    },
    {
      "cell_type": "markdown",
      "source": [
        "### Parte Exploratoria: Cree una muestra de los primeros 5 elementos de esta tabla. ¿Cuantas observaciones tienes?"
      ],
      "metadata": {
        "id": "Z8Qtf0brksp4"
      },
      "id": "Z8Qtf0brksp4"
    },
    {
      "cell_type": "code",
      "source": [
        "df.head(6)"
      ],
      "metadata": {
        "id": "QtoVUwx0k01D",
        "colab": {
          "base_uri": "https://localhost:8080/",
          "height": 238
        },
        "outputId": "80b72312-0d9f-48e6-e81d-324903bca856"
      },
      "id": "QtoVUwx0k01D",
      "execution_count": 16,
      "outputs": [
        {
          "output_type": "execute_result",
          "data": {
            "text/plain": [
              "   year  month    date  customer_id acquisition_channel signup_source  \\\n",
              "0  2023      1  Jan-23         1001      outbound_sales           web   \n",
              "1  2023      1  Jan-23         1002            meta_ads           web   \n",
              "2  2023      1  Jan-23         1003      organic_search    mobile_app   \n",
              "3  2023      1  Jan-23         1004      organic_search           web   \n",
              "4  2023      1  Jan-23         1005      organic_search           web   \n",
              "5  2023      1  Jan-23         1006      organic_search    mobile_app   \n",
              "\n",
              "          region customer_tier  plan_price  discount_rate   arpu  \\\n",
              "0  North America         Basic       78.84           0.10  63.63   \n",
              "1          LatAm           Pro      120.23           0.00 124.47   \n",
              "2  North America    Enterprise      335.82           0.20 278.20   \n",
              "3         Europe           Pro      193.89           0.10 190.65   \n",
              "4           APAC    Enterprise      471.80           0.10 445.32   \n",
              "5           APAC           Pro      138.52           0.10 133.17   \n",
              "\n",
              "   gross_margin  churn_rate  contract_length_months  marketing_spend  \n",
              "0          0.76        0.02                      12           212.48  \n",
              "1          0.84        0.05                       1           352.60  \n",
              "2          0.81        0.02                      12            55.40  \n",
              "3          0.80        0.08                       1            49.10  \n",
              "4          0.80        0.08                       1            45.27  \n",
              "5          0.80        0.08                       1            56.92  "
            ],
            "text/html": [
              "\n",
              "  <div id=\"df-26dc4890-efce-4ded-9c45-f3470bda6bb4\" class=\"colab-df-container\">\n",
              "    <div>\n",
              "<style scoped>\n",
              "    .dataframe tbody tr th:only-of-type {\n",
              "        vertical-align: middle;\n",
              "    }\n",
              "\n",
              "    .dataframe tbody tr th {\n",
              "        vertical-align: top;\n",
              "    }\n",
              "\n",
              "    .dataframe thead th {\n",
              "        text-align: right;\n",
              "    }\n",
              "</style>\n",
              "<table border=\"1\" class=\"dataframe\">\n",
              "  <thead>\n",
              "    <tr style=\"text-align: right;\">\n",
              "      <th></th>\n",
              "      <th>year</th>\n",
              "      <th>month</th>\n",
              "      <th>date</th>\n",
              "      <th>customer_id</th>\n",
              "      <th>acquisition_channel</th>\n",
              "      <th>signup_source</th>\n",
              "      <th>region</th>\n",
              "      <th>customer_tier</th>\n",
              "      <th>plan_price</th>\n",
              "      <th>discount_rate</th>\n",
              "      <th>arpu</th>\n",
              "      <th>gross_margin</th>\n",
              "      <th>churn_rate</th>\n",
              "      <th>contract_length_months</th>\n",
              "      <th>marketing_spend</th>\n",
              "    </tr>\n",
              "  </thead>\n",
              "  <tbody>\n",
              "    <tr>\n",
              "      <th>0</th>\n",
              "      <td>2023</td>\n",
              "      <td>1</td>\n",
              "      <td>Jan-23</td>\n",
              "      <td>1001</td>\n",
              "      <td>outbound_sales</td>\n",
              "      <td>web</td>\n",
              "      <td>North America</td>\n",
              "      <td>Basic</td>\n",
              "      <td>78.84</td>\n",
              "      <td>0.10</td>\n",
              "      <td>63.63</td>\n",
              "      <td>0.76</td>\n",
              "      <td>0.02</td>\n",
              "      <td>12</td>\n",
              "      <td>212.48</td>\n",
              "    </tr>\n",
              "    <tr>\n",
              "      <th>1</th>\n",
              "      <td>2023</td>\n",
              "      <td>1</td>\n",
              "      <td>Jan-23</td>\n",
              "      <td>1002</td>\n",
              "      <td>meta_ads</td>\n",
              "      <td>web</td>\n",
              "      <td>LatAm</td>\n",
              "      <td>Pro</td>\n",
              "      <td>120.23</td>\n",
              "      <td>0.00</td>\n",
              "      <td>124.47</td>\n",
              "      <td>0.84</td>\n",
              "      <td>0.05</td>\n",
              "      <td>1</td>\n",
              "      <td>352.60</td>\n",
              "    </tr>\n",
              "    <tr>\n",
              "      <th>2</th>\n",
              "      <td>2023</td>\n",
              "      <td>1</td>\n",
              "      <td>Jan-23</td>\n",
              "      <td>1003</td>\n",
              "      <td>organic_search</td>\n",
              "      <td>mobile_app</td>\n",
              "      <td>North America</td>\n",
              "      <td>Enterprise</td>\n",
              "      <td>335.82</td>\n",
              "      <td>0.20</td>\n",
              "      <td>278.20</td>\n",
              "      <td>0.81</td>\n",
              "      <td>0.02</td>\n",
              "      <td>12</td>\n",
              "      <td>55.40</td>\n",
              "    </tr>\n",
              "    <tr>\n",
              "      <th>3</th>\n",
              "      <td>2023</td>\n",
              "      <td>1</td>\n",
              "      <td>Jan-23</td>\n",
              "      <td>1004</td>\n",
              "      <td>organic_search</td>\n",
              "      <td>web</td>\n",
              "      <td>Europe</td>\n",
              "      <td>Pro</td>\n",
              "      <td>193.89</td>\n",
              "      <td>0.10</td>\n",
              "      <td>190.65</td>\n",
              "      <td>0.80</td>\n",
              "      <td>0.08</td>\n",
              "      <td>1</td>\n",
              "      <td>49.10</td>\n",
              "    </tr>\n",
              "    <tr>\n",
              "      <th>4</th>\n",
              "      <td>2023</td>\n",
              "      <td>1</td>\n",
              "      <td>Jan-23</td>\n",
              "      <td>1005</td>\n",
              "      <td>organic_search</td>\n",
              "      <td>web</td>\n",
              "      <td>APAC</td>\n",
              "      <td>Enterprise</td>\n",
              "      <td>471.80</td>\n",
              "      <td>0.10</td>\n",
              "      <td>445.32</td>\n",
              "      <td>0.80</td>\n",
              "      <td>0.08</td>\n",
              "      <td>1</td>\n",
              "      <td>45.27</td>\n",
              "    </tr>\n",
              "    <tr>\n",
              "      <th>5</th>\n",
              "      <td>2023</td>\n",
              "      <td>1</td>\n",
              "      <td>Jan-23</td>\n",
              "      <td>1006</td>\n",
              "      <td>organic_search</td>\n",
              "      <td>mobile_app</td>\n",
              "      <td>APAC</td>\n",
              "      <td>Pro</td>\n",
              "      <td>138.52</td>\n",
              "      <td>0.10</td>\n",
              "      <td>133.17</td>\n",
              "      <td>0.80</td>\n",
              "      <td>0.08</td>\n",
              "      <td>1</td>\n",
              "      <td>56.92</td>\n",
              "    </tr>\n",
              "  </tbody>\n",
              "</table>\n",
              "</div>\n",
              "    <div class=\"colab-df-buttons\">\n",
              "\n",
              "  <div class=\"colab-df-container\">\n",
              "    <button class=\"colab-df-convert\" onclick=\"convertToInteractive('df-26dc4890-efce-4ded-9c45-f3470bda6bb4')\"\n",
              "            title=\"Convert this dataframe to an interactive table.\"\n",
              "            style=\"display:none;\">\n",
              "\n",
              "  <svg xmlns=\"http://www.w3.org/2000/svg\" height=\"24px\" viewBox=\"0 -960 960 960\">\n",
              "    <path d=\"M120-120v-720h720v720H120Zm60-500h600v-160H180v160Zm220 220h160v-160H400v160Zm0 220h160v-160H400v160ZM180-400h160v-160H180v160Zm440 0h160v-160H620v160ZM180-180h160v-160H180v160Zm440 0h160v-160H620v160Z\"/>\n",
              "  </svg>\n",
              "    </button>\n",
              "\n",
              "  <style>\n",
              "    .colab-df-container {\n",
              "      display:flex;\n",
              "      gap: 12px;\n",
              "    }\n",
              "\n",
              "    .colab-df-convert {\n",
              "      background-color: #E8F0FE;\n",
              "      border: none;\n",
              "      border-radius: 50%;\n",
              "      cursor: pointer;\n",
              "      display: none;\n",
              "      fill: #1967D2;\n",
              "      height: 32px;\n",
              "      padding: 0 0 0 0;\n",
              "      width: 32px;\n",
              "    }\n",
              "\n",
              "    .colab-df-convert:hover {\n",
              "      background-color: #E2EBFA;\n",
              "      box-shadow: 0px 1px 2px rgba(60, 64, 67, 0.3), 0px 1px 3px 1px rgba(60, 64, 67, 0.15);\n",
              "      fill: #174EA6;\n",
              "    }\n",
              "\n",
              "    .colab-df-buttons div {\n",
              "      margin-bottom: 4px;\n",
              "    }\n",
              "\n",
              "    [theme=dark] .colab-df-convert {\n",
              "      background-color: #3B4455;\n",
              "      fill: #D2E3FC;\n",
              "    }\n",
              "\n",
              "    [theme=dark] .colab-df-convert:hover {\n",
              "      background-color: #434B5C;\n",
              "      box-shadow: 0px 1px 3px 1px rgba(0, 0, 0, 0.15);\n",
              "      filter: drop-shadow(0px 1px 2px rgba(0, 0, 0, 0.3));\n",
              "      fill: #FFFFFF;\n",
              "    }\n",
              "  </style>\n",
              "\n",
              "    <script>\n",
              "      const buttonEl =\n",
              "        document.querySelector('#df-26dc4890-efce-4ded-9c45-f3470bda6bb4 button.colab-df-convert');\n",
              "      buttonEl.style.display =\n",
              "        google.colab.kernel.accessAllowed ? 'block' : 'none';\n",
              "\n",
              "      async function convertToInteractive(key) {\n",
              "        const element = document.querySelector('#df-26dc4890-efce-4ded-9c45-f3470bda6bb4');\n",
              "        const dataTable =\n",
              "          await google.colab.kernel.invokeFunction('convertToInteractive',\n",
              "                                                    [key], {});\n",
              "        if (!dataTable) return;\n",
              "\n",
              "        const docLinkHtml = 'Like what you see? Visit the ' +\n",
              "          '<a target=\"_blank\" href=https://colab.research.google.com/notebooks/data_table.ipynb>data table notebook</a>'\n",
              "          + ' to learn more about interactive tables.';\n",
              "        element.innerHTML = '';\n",
              "        dataTable['output_type'] = 'display_data';\n",
              "        await google.colab.output.renderOutput(dataTable, element);\n",
              "        const docLink = document.createElement('div');\n",
              "        docLink.innerHTML = docLinkHtml;\n",
              "        element.appendChild(docLink);\n",
              "      }\n",
              "    </script>\n",
              "  </div>\n",
              "\n",
              "\n",
              "    <div id=\"df-0ff60d21-9902-4f15-8ea8-b537276ff30e\">\n",
              "      <button class=\"colab-df-quickchart\" onclick=\"quickchart('df-0ff60d21-9902-4f15-8ea8-b537276ff30e')\"\n",
              "                title=\"Suggest charts\"\n",
              "                style=\"display:none;\">\n",
              "\n",
              "<svg xmlns=\"http://www.w3.org/2000/svg\" height=\"24px\"viewBox=\"0 0 24 24\"\n",
              "     width=\"24px\">\n",
              "    <g>\n",
              "        <path d=\"M19 3H5c-1.1 0-2 .9-2 2v14c0 1.1.9 2 2 2h14c1.1 0 2-.9 2-2V5c0-1.1-.9-2-2-2zM9 17H7v-7h2v7zm4 0h-2V7h2v10zm4 0h-2v-4h2v4z\"/>\n",
              "    </g>\n",
              "</svg>\n",
              "      </button>\n",
              "\n",
              "<style>\n",
              "  .colab-df-quickchart {\n",
              "      --bg-color: #E8F0FE;\n",
              "      --fill-color: #1967D2;\n",
              "      --hover-bg-color: #E2EBFA;\n",
              "      --hover-fill-color: #174EA6;\n",
              "      --disabled-fill-color: #AAA;\n",
              "      --disabled-bg-color: #DDD;\n",
              "  }\n",
              "\n",
              "  [theme=dark] .colab-df-quickchart {\n",
              "      --bg-color: #3B4455;\n",
              "      --fill-color: #D2E3FC;\n",
              "      --hover-bg-color: #434B5C;\n",
              "      --hover-fill-color: #FFFFFF;\n",
              "      --disabled-bg-color: #3B4455;\n",
              "      --disabled-fill-color: #666;\n",
              "  }\n",
              "\n",
              "  .colab-df-quickchart {\n",
              "    background-color: var(--bg-color);\n",
              "    border: none;\n",
              "    border-radius: 50%;\n",
              "    cursor: pointer;\n",
              "    display: none;\n",
              "    fill: var(--fill-color);\n",
              "    height: 32px;\n",
              "    padding: 0;\n",
              "    width: 32px;\n",
              "  }\n",
              "\n",
              "  .colab-df-quickchart:hover {\n",
              "    background-color: var(--hover-bg-color);\n",
              "    box-shadow: 0 1px 2px rgba(60, 64, 67, 0.3), 0 1px 3px 1px rgba(60, 64, 67, 0.15);\n",
              "    fill: var(--button-hover-fill-color);\n",
              "  }\n",
              "\n",
              "  .colab-df-quickchart-complete:disabled,\n",
              "  .colab-df-quickchart-complete:disabled:hover {\n",
              "    background-color: var(--disabled-bg-color);\n",
              "    fill: var(--disabled-fill-color);\n",
              "    box-shadow: none;\n",
              "  }\n",
              "\n",
              "  .colab-df-spinner {\n",
              "    border: 2px solid var(--fill-color);\n",
              "    border-color: transparent;\n",
              "    border-bottom-color: var(--fill-color);\n",
              "    animation:\n",
              "      spin 1s steps(1) infinite;\n",
              "  }\n",
              "\n",
              "  @keyframes spin {\n",
              "    0% {\n",
              "      border-color: transparent;\n",
              "      border-bottom-color: var(--fill-color);\n",
              "      border-left-color: var(--fill-color);\n",
              "    }\n",
              "    20% {\n",
              "      border-color: transparent;\n",
              "      border-left-color: var(--fill-color);\n",
              "      border-top-color: var(--fill-color);\n",
              "    }\n",
              "    30% {\n",
              "      border-color: transparent;\n",
              "      border-left-color: var(--fill-color);\n",
              "      border-top-color: var(--fill-color);\n",
              "      border-right-color: var(--fill-color);\n",
              "    }\n",
              "    40% {\n",
              "      border-color: transparent;\n",
              "      border-right-color: var(--fill-color);\n",
              "      border-top-color: var(--fill-color);\n",
              "    }\n",
              "    60% {\n",
              "      border-color: transparent;\n",
              "      border-right-color: var(--fill-color);\n",
              "    }\n",
              "    80% {\n",
              "      border-color: transparent;\n",
              "      border-right-color: var(--fill-color);\n",
              "      border-bottom-color: var(--fill-color);\n",
              "    }\n",
              "    90% {\n",
              "      border-color: transparent;\n",
              "      border-bottom-color: var(--fill-color);\n",
              "    }\n",
              "  }\n",
              "</style>\n",
              "\n",
              "      <script>\n",
              "        async function quickchart(key) {\n",
              "          const quickchartButtonEl =\n",
              "            document.querySelector('#' + key + ' button');\n",
              "          quickchartButtonEl.disabled = true;  // To prevent multiple clicks.\n",
              "          quickchartButtonEl.classList.add('colab-df-spinner');\n",
              "          try {\n",
              "            const charts = await google.colab.kernel.invokeFunction(\n",
              "                'suggestCharts', [key], {});\n",
              "          } catch (error) {\n",
              "            console.error('Error during call to suggestCharts:', error);\n",
              "          }\n",
              "          quickchartButtonEl.classList.remove('colab-df-spinner');\n",
              "          quickchartButtonEl.classList.add('colab-df-quickchart-complete');\n",
              "        }\n",
              "        (() => {\n",
              "          let quickchartButtonEl =\n",
              "            document.querySelector('#df-0ff60d21-9902-4f15-8ea8-b537276ff30e button');\n",
              "          quickchartButtonEl.style.display =\n",
              "            google.colab.kernel.accessAllowed ? 'block' : 'none';\n",
              "        })();\n",
              "      </script>\n",
              "    </div>\n",
              "\n",
              "    </div>\n",
              "  </div>\n"
            ],
            "application/vnd.google.colaboratory.intrinsic+json": {
              "type": "dataframe",
              "variable_name": "df",
              "summary": "{\n  \"name\": \"df\",\n  \"rows\": 7057,\n  \"fields\": [\n    {\n      \"column\": \"year\",\n      \"properties\": {\n        \"dtype\": \"number\",\n        \"std\": 0,\n        \"min\": 2023,\n        \"max\": 2024,\n        \"num_unique_values\": 2,\n        \"samples\": [\n          2024,\n          2023\n        ],\n        \"semantic_type\": \"\",\n        \"description\": \"\"\n      }\n    },\n    {\n      \"column\": \"month\",\n      \"properties\": {\n        \"dtype\": \"number\",\n        \"std\": 3,\n        \"min\": 1,\n        \"max\": 12,\n        \"num_unique_values\": 12,\n        \"samples\": [\n          11,\n          10\n        ],\n        \"semantic_type\": \"\",\n        \"description\": \"\"\n      }\n    },\n    {\n      \"column\": \"date\",\n      \"properties\": {\n        \"dtype\": \"category\",\n        \"num_unique_values\": 24,\n        \"samples\": [\n          \"Sep-23\",\n          \"May-24\"\n        ],\n        \"semantic_type\": \"\",\n        \"description\": \"\"\n      }\n    },\n    {\n      \"column\": \"customer_id\",\n      \"properties\": {\n        \"dtype\": \"number\",\n        \"std\": 2037,\n        \"min\": 1001,\n        \"max\": 8057,\n        \"num_unique_values\": 7057,\n        \"samples\": [\n          4308,\n          6939\n        ],\n        \"semantic_type\": \"\",\n        \"description\": \"\"\n      }\n    },\n    {\n      \"column\": \"acquisition_channel\",\n      \"properties\": {\n        \"dtype\": \"category\",\n        \"num_unique_values\": 4,\n        \"samples\": [\n          \"meta_ads\",\n          \"google_ads\"\n        ],\n        \"semantic_type\": \"\",\n        \"description\": \"\"\n      }\n    },\n    {\n      \"column\": \"signup_source\",\n      \"properties\": {\n        \"dtype\": \"category\",\n        \"num_unique_values\": 3,\n        \"samples\": [\n          \"web\",\n          \"mobile_app\"\n        ],\n        \"semantic_type\": \"\",\n        \"description\": \"\"\n      }\n    },\n    {\n      \"column\": \"region\",\n      \"properties\": {\n        \"dtype\": \"category\",\n        \"num_unique_values\": 6,\n        \"samples\": [\n          \"North America\",\n          \"LatAm\"\n        ],\n        \"semantic_type\": \"\",\n        \"description\": \"\"\n      }\n    },\n    {\n      \"column\": \"customer_tier\",\n      \"properties\": {\n        \"dtype\": \"category\",\n        \"num_unique_values\": 3,\n        \"samples\": [\n          \"Basic\",\n          \"Pro\"\n        ],\n        \"semantic_type\": \"\",\n        \"description\": \"\"\n      }\n    },\n    {\n      \"column\": \"plan_price\",\n      \"properties\": {\n        \"dtype\": \"number\",\n        \"std\": 126.80108957744072,\n        \"min\": 49.03,\n        \"max\": 498.98,\n        \"num_unique_values\": 6226,\n        \"samples\": [\n          103.95,\n          59.08\n        ],\n        \"semantic_type\": \"\",\n        \"description\": \"\"\n      }\n    },\n    {\n      \"column\": \"discount_rate\",\n      \"properties\": {\n        \"dtype\": \"number\",\n        \"std\": 0.08156278012247319,\n        \"min\": 0.0,\n        \"max\": 0.2,\n        \"num_unique_values\": 3,\n        \"samples\": [\n          0.1,\n          0.0\n        ],\n        \"semantic_type\": \"\",\n        \"description\": \"\"\n      }\n    },\n    {\n      \"column\": \"arpu\",\n      \"properties\": {\n        \"dtype\": \"number\",\n        \"std\": 117.1886853383935,\n        \"min\": 34.18,\n        \"max\": 563.02,\n        \"num_unique_values\": 6207,\n        \"samples\": [\n          326.07,\n          78.19\n        ],\n        \"semantic_type\": \"\",\n        \"description\": \"\"\n      }\n    },\n    {\n      \"column\": \"gross_margin\",\n      \"properties\": {\n        \"dtype\": \"number\",\n        \"std\": 0.04375666078045694,\n        \"min\": 0.75,\n        \"max\": 0.9,\n        \"num_unique_values\": 16,\n        \"samples\": [\n          0.76,\n          0.84\n        ],\n        \"semantic_type\": \"\",\n        \"description\": \"\"\n      }\n    },\n    {\n      \"column\": \"churn_rate\",\n      \"properties\": {\n        \"dtype\": \"number\",\n        \"std\": 0.02951330160685637,\n        \"min\": 0.01,\n        \"max\": 0.1,\n        \"num_unique_values\": 702,\n        \"samples\": [\n          0.0121,\n          0.0532\n        ],\n        \"semantic_type\": \"\",\n        \"description\": \"\"\n      }\n    },\n    {\n      \"column\": \"contract_length_months\",\n      \"properties\": {\n        \"dtype\": \"number\",\n        \"std\": 5,\n        \"min\": 1,\n        \"max\": 12,\n        \"num_unique_values\": 2,\n        \"samples\": [\n          1,\n          12\n        ],\n        \"semantic_type\": \"\",\n        \"description\": \"\"\n      }\n    },\n    {\n      \"column\": \"marketing_spend\",\n      \"properties\": {\n        \"dtype\": \"number\",\n        \"std\": 139.32306575669227,\n        \"min\": 42.5,\n        \"max\": 459.99,\n        \"num_unique_values\": 5683,\n        \"samples\": [\n          193.62,\n          195.79\n        ],\n        \"semantic_type\": \"\",\n        \"description\": \"\"\n      }\n    }\n  ]\n}"
            }
          },
          "metadata": {},
          "execution_count": 16
        }
      ]
    },
    {
      "cell_type": "markdown",
      "metadata": {
        "id": "Pz-dbPA0hia5"
      },
      "source": [
        "## 🔎 Parte A – Filtros\n",
        "\n",
        "hint: Crea una tabla con el filtro y luego agrupa la variable que te piden.\n",
        "\n",
        "1. **Filtra** los clientes del canal **`meta_ads`**. Calcula el **ARPU promedio** de este subconjunto.  \n",
        "\n"
      ],
      "id": "Pz-dbPA0hia5"
    },
    {
      "cell_type": "code",
      "metadata": {
        "id": "sZnH-WFohia5",
        "colab": {
          "base_uri": "https://localhost:8080/"
        },
        "outputId": "df4fc9a8-481f-4215-c470-a77c2d3208ef"
      },
      "execution_count": 31,
      "outputs": [
        {
          "output_type": "execute_result",
          "data": {
            "text/plain": [
              "np.float64(168.78858272162617)"
            ]
          },
          "metadata": {},
          "execution_count": 31
        }
      ],
      "source": [
        "dfmeta=df[df['acquisition_channel']=='meta_ads']\n",
        "dfmeta['arpu'].mean()"
      ],
      "id": "sZnH-WFohia5"
    },
    {
      "cell_type": "markdown",
      "source": [
        "2. **Filtra** clientes de **LatAm** con **`churn_rate > 0.05`**. ¿Cuántos son? ¿Cuál es su **ARPU promedio**?  "
      ],
      "metadata": {
        "id": "L35ewVEKkF8S"
      },
      "id": "L35ewVEKkF8S"
    },
    {
      "cell_type": "code",
      "source": [
        "dfclientes=df[(df['region']=='LatAm') & (df['churn_rate']>0.05)]\n",
        "dfclientes['arpu'].mean()"
      ],
      "metadata": {
        "id": "migcCxy1kExA",
        "colab": {
          "base_uri": "https://localhost:8080/"
        },
        "outputId": "f58aa959-3813-40f8-86e6-3e1a27d1b741"
      },
      "id": "migcCxy1kExA",
      "execution_count": 32,
      "outputs": [
        {
          "output_type": "execute_result",
          "data": {
            "text/plain": [
              "np.float64(174.78453658536586)"
            ]
          },
          "metadata": {},
          "execution_count": 32
        }
      ]
    },
    {
      "cell_type": "markdown",
      "source": [
        "3. **Filtra** clientes **Enterprise** con `contract_length_months > 6`. ¿Cuál es su **gross_margin promedio**?"
      ],
      "metadata": {
        "id": "FAmAB5cskHwK"
      },
      "id": "FAmAB5cskHwK"
    },
    {
      "cell_type": "code",
      "source": [
        "dfenterprise=df[(df['customer_tier']=='Enterprise') & (df['contract_length_months']>6)]\n",
        "dfenterprise['gross_margin'].mean()"
      ],
      "metadata": {
        "id": "qwkFGvWAjBm1",
        "colab": {
          "base_uri": "https://localhost:8080/"
        },
        "outputId": "79acb9c3-0329-4a48-c561-087e04e127dc"
      },
      "id": "qwkFGvWAjBm1",
      "execution_count": 34,
      "outputs": [
        {
          "output_type": "execute_result",
          "data": {
            "text/plain": [
              "np.float64(0.8248397435897435)"
            ]
          },
          "metadata": {},
          "execution_count": 34
        }
      ]
    },
    {
      "cell_type": "markdown",
      "metadata": {
        "id": "iITo0wtIhia5"
      },
      "source": [
        "## 📊 Parte B – Agrupaciones (SOLO agrupar)\n",
        "4. **Agrupa** por `acquisition_channel` y calcula **ARPU promedio**. Ordena de mayor a menor.  \n"
      ],
      "id": "iITo0wtIhia5"
    },
    {
      "cell_type": "code",
      "metadata": {
        "id": "DFPq1MRLhia5",
        "colab": {
          "base_uri": "https://localhost:8080/",
          "height": 241
        },
        "outputId": "e0dc07e4-6ed0-45d0-8f20-cabb75c73f56"
      },
      "execution_count": 44,
      "outputs": [
        {
          "output_type": "execute_result",
          "data": {
            "text/plain": [
              "acquisition_channel\n",
              "outbound_sales   173.61\n",
              "google_ads       172.37\n",
              "organic_search   171.14\n",
              "meta_ads         168.79\n",
              "Name: arpu, dtype: float64"
            ],
            "text/html": [
              "<div>\n",
              "<style scoped>\n",
              "    .dataframe tbody tr th:only-of-type {\n",
              "        vertical-align: middle;\n",
              "    }\n",
              "\n",
              "    .dataframe tbody tr th {\n",
              "        vertical-align: top;\n",
              "    }\n",
              "\n",
              "    .dataframe thead th {\n",
              "        text-align: right;\n",
              "    }\n",
              "</style>\n",
              "<table border=\"1\" class=\"dataframe\">\n",
              "  <thead>\n",
              "    <tr style=\"text-align: right;\">\n",
              "      <th></th>\n",
              "      <th>arpu</th>\n",
              "    </tr>\n",
              "    <tr>\n",
              "      <th>acquisition_channel</th>\n",
              "      <th></th>\n",
              "    </tr>\n",
              "  </thead>\n",
              "  <tbody>\n",
              "    <tr>\n",
              "      <th>outbound_sales</th>\n",
              "      <td>173.61</td>\n",
              "    </tr>\n",
              "    <tr>\n",
              "      <th>google_ads</th>\n",
              "      <td>172.37</td>\n",
              "    </tr>\n",
              "    <tr>\n",
              "      <th>organic_search</th>\n",
              "      <td>171.14</td>\n",
              "    </tr>\n",
              "    <tr>\n",
              "      <th>meta_ads</th>\n",
              "      <td>168.79</td>\n",
              "    </tr>\n",
              "  </tbody>\n",
              "</table>\n",
              "</div><br><label><b>dtype:</b> float64</label>"
            ]
          },
          "metadata": {},
          "execution_count": 44
        }
      ],
      "source": [
        "groupbyAC=df.groupby('acquisition_channel')\n",
        "groupbyAC['arpu'].mean().sort_values(ascending=False)"
      ],
      "id": "DFPq1MRLhia5"
    },
    {
      "cell_type": "markdown",
      "source": [
        "5. **Agrupa** por `region` y calcula **churn_rate promedio**. Identifica la región con mayor churn.  \n",
        "\n"
      ],
      "metadata": {
        "id": "m8g2T45ZkSIu"
      },
      "id": "m8g2T45ZkSIu"
    },
    {
      "cell_type": "code",
      "source": [
        "groupbyRE=df.groupby('region')\n",
        "groupbyRE['churn_rate'].mean().sort_values(ascending=False)"
      ],
      "metadata": {
        "id": "cs-0oGyfkUNU",
        "colab": {
          "base_uri": "https://localhost:8080/",
          "height": 304
        },
        "outputId": "803bf7b4-ab9c-4707-9b0c-1bfeac0e2c13"
      },
      "id": "cs-0oGyfkUNU",
      "execution_count": 47,
      "outputs": [
        {
          "output_type": "execute_result",
          "data": {
            "text/plain": [
              "region\n",
              "Middle East     0.05\n",
              "LatAm           0.05\n",
              "North America   0.05\n",
              "APAC            0.05\n",
              "Europe          0.05\n",
              "Africa          0.05\n",
              "Name: churn_rate, dtype: float64"
            ],
            "text/html": [
              "<div>\n",
              "<style scoped>\n",
              "    .dataframe tbody tr th:only-of-type {\n",
              "        vertical-align: middle;\n",
              "    }\n",
              "\n",
              "    .dataframe tbody tr th {\n",
              "        vertical-align: top;\n",
              "    }\n",
              "\n",
              "    .dataframe thead th {\n",
              "        text-align: right;\n",
              "    }\n",
              "</style>\n",
              "<table border=\"1\" class=\"dataframe\">\n",
              "  <thead>\n",
              "    <tr style=\"text-align: right;\">\n",
              "      <th></th>\n",
              "      <th>churn_rate</th>\n",
              "    </tr>\n",
              "    <tr>\n",
              "      <th>region</th>\n",
              "      <th></th>\n",
              "    </tr>\n",
              "  </thead>\n",
              "  <tbody>\n",
              "    <tr>\n",
              "      <th>Middle East</th>\n",
              "      <td>0.05</td>\n",
              "    </tr>\n",
              "    <tr>\n",
              "      <th>LatAm</th>\n",
              "      <td>0.05</td>\n",
              "    </tr>\n",
              "    <tr>\n",
              "      <th>North America</th>\n",
              "      <td>0.05</td>\n",
              "    </tr>\n",
              "    <tr>\n",
              "      <th>APAC</th>\n",
              "      <td>0.05</td>\n",
              "    </tr>\n",
              "    <tr>\n",
              "      <th>Europe</th>\n",
              "      <td>0.05</td>\n",
              "    </tr>\n",
              "    <tr>\n",
              "      <th>Africa</th>\n",
              "      <td>0.05</td>\n",
              "    </tr>\n",
              "  </tbody>\n",
              "</table>\n",
              "</div><br><label><b>dtype:</b> float64</label>"
            ]
          },
          "metadata": {},
          "execution_count": 47
        }
      ]
    },
    {
      "cell_type": "markdown",
      "source": [
        "6. **Agrupa** por `customer_tier` y calcula **marketing_spend total**. ¿Cuál tier consume más presupuesto?"
      ],
      "metadata": {
        "id": "snguEL66kTgQ"
      },
      "id": "snguEL66kTgQ"
    },
    {
      "cell_type": "code",
      "source": [
        "groupbyCT=df.groupby('customer_tier')\n",
        "groupbyCT['marketing_spend'].sum().sort_values(ascending=False)"
      ],
      "metadata": {
        "id": "sScC7EbgkUqO",
        "colab": {
          "base_uri": "https://localhost:8080/",
          "height": 210
        },
        "outputId": "2ecc842a-61e8-473d-acb8-16731fcca4d4"
      },
      "id": "sScC7EbgkUqO",
      "execution_count": 48,
      "outputs": [
        {
          "output_type": "execute_result",
          "data": {
            "text/plain": [
              "customer_tier\n",
              "Pro          589,265.04\n",
              "Basic        584,419.11\n",
              "Enterprise   584,348.87\n",
              "Name: marketing_spend, dtype: float64"
            ],
            "text/html": [
              "<div>\n",
              "<style scoped>\n",
              "    .dataframe tbody tr th:only-of-type {\n",
              "        vertical-align: middle;\n",
              "    }\n",
              "\n",
              "    .dataframe tbody tr th {\n",
              "        vertical-align: top;\n",
              "    }\n",
              "\n",
              "    .dataframe thead th {\n",
              "        text-align: right;\n",
              "    }\n",
              "</style>\n",
              "<table border=\"1\" class=\"dataframe\">\n",
              "  <thead>\n",
              "    <tr style=\"text-align: right;\">\n",
              "      <th></th>\n",
              "      <th>marketing_spend</th>\n",
              "    </tr>\n",
              "    <tr>\n",
              "      <th>customer_tier</th>\n",
              "      <th></th>\n",
              "    </tr>\n",
              "  </thead>\n",
              "  <tbody>\n",
              "    <tr>\n",
              "      <th>Pro</th>\n",
              "      <td>589,265.04</td>\n",
              "    </tr>\n",
              "    <tr>\n",
              "      <th>Basic</th>\n",
              "      <td>584,419.11</td>\n",
              "    </tr>\n",
              "    <tr>\n",
              "      <th>Enterprise</th>\n",
              "      <td>584,348.87</td>\n",
              "    </tr>\n",
              "  </tbody>\n",
              "</table>\n",
              "</div><br><label><b>dtype:</b> float64</label>"
            ]
          },
          "metadata": {},
          "execution_count": 48
        }
      ]
    },
    {
      "cell_type": "markdown",
      "metadata": {
        "id": "F8iPMr3Phia6"
      },
      "source": [
        "## 🔀 Parte C – Filtro **y** Agrupación (Ambas)\n",
        "7. **Filtra** solo registros de **`signup_source = 'web'`** y luego **agrupa** por `acquisition_channel` para obtener el **churn_rate promedio**.  \n"
      ],
      "id": "F8iPMr3Phia6"
    },
    {
      "cell_type": "code",
      "metadata": {
        "id": "4beaTTDqhia6",
        "colab": {
          "base_uri": "https://localhost:8080/",
          "height": 241
        },
        "outputId": "d24ae558-b6de-4f6b-8f61-c8cbe8035dc5"
      },
      "execution_count": 49,
      "outputs": [
        {
          "output_type": "execute_result",
          "data": {
            "text/plain": [
              "acquisition_channel\n",
              "google_ads       0.05\n",
              "meta_ads         0.05\n",
              "organic_search   0.05\n",
              "outbound_sales   0.05\n",
              "Name: churn_rate, dtype: float64"
            ],
            "text/html": [
              "<div>\n",
              "<style scoped>\n",
              "    .dataframe tbody tr th:only-of-type {\n",
              "        vertical-align: middle;\n",
              "    }\n",
              "\n",
              "    .dataframe tbody tr th {\n",
              "        vertical-align: top;\n",
              "    }\n",
              "\n",
              "    .dataframe thead th {\n",
              "        text-align: right;\n",
              "    }\n",
              "</style>\n",
              "<table border=\"1\" class=\"dataframe\">\n",
              "  <thead>\n",
              "    <tr style=\"text-align: right;\">\n",
              "      <th></th>\n",
              "      <th>churn_rate</th>\n",
              "    </tr>\n",
              "    <tr>\n",
              "      <th>acquisition_channel</th>\n",
              "      <th></th>\n",
              "    </tr>\n",
              "  </thead>\n",
              "  <tbody>\n",
              "    <tr>\n",
              "      <th>google_ads</th>\n",
              "      <td>0.05</td>\n",
              "    </tr>\n",
              "    <tr>\n",
              "      <th>meta_ads</th>\n",
              "      <td>0.05</td>\n",
              "    </tr>\n",
              "    <tr>\n",
              "      <th>organic_search</th>\n",
              "      <td>0.05</td>\n",
              "    </tr>\n",
              "    <tr>\n",
              "      <th>outbound_sales</th>\n",
              "      <td>0.05</td>\n",
              "    </tr>\n",
              "  </tbody>\n",
              "</table>\n",
              "</div><br><label><b>dtype:</b> float64</label>"
            ]
          },
          "metadata": {},
          "execution_count": 49
        }
      ],
      "source": [
        "CHPromedio=df[df['signup_source']=='web'].groupby('acquisition_channel')['churn_rate'].mean()\n",
        "CHPromedio"
      ],
      "id": "4beaTTDqhia6"
    },
    {
      "cell_type": "markdown",
      "source": [
        "8. **Filtra** solo **`mobile_app`** y luego **agrupa** por `region` para calcular **ARPU promedio**.  \n"
      ],
      "metadata": {
        "id": "mDlYBs3bkgP3"
      },
      "id": "mDlYBs3bkgP3"
    },
    {
      "cell_type": "code",
      "source": [
        "Arpupromedio=df[df['signup_source']=='mobile_app'].groupby('region')['arpu'].mean()\n",
        "Arpupromedio"
      ],
      "metadata": {
        "id": "sStudHFWkhd-",
        "colab": {
          "base_uri": "https://localhost:8080/",
          "height": 304
        },
        "outputId": "864dd51a-8c14-4cec-fca5-a02942f8ad23"
      },
      "id": "sStudHFWkhd-",
      "execution_count": 50,
      "outputs": [
        {
          "output_type": "execute_result",
          "data": {
            "text/plain": [
              "region\n",
              "APAC            169.09\n",
              "Africa          172.60\n",
              "Europe          165.89\n",
              "LatAm           173.20\n",
              "Middle East     171.71\n",
              "North America   174.00\n",
              "Name: arpu, dtype: float64"
            ],
            "text/html": [
              "<div>\n",
              "<style scoped>\n",
              "    .dataframe tbody tr th:only-of-type {\n",
              "        vertical-align: middle;\n",
              "    }\n",
              "\n",
              "    .dataframe tbody tr th {\n",
              "        vertical-align: top;\n",
              "    }\n",
              "\n",
              "    .dataframe thead th {\n",
              "        text-align: right;\n",
              "    }\n",
              "</style>\n",
              "<table border=\"1\" class=\"dataframe\">\n",
              "  <thead>\n",
              "    <tr style=\"text-align: right;\">\n",
              "      <th></th>\n",
              "      <th>arpu</th>\n",
              "    </tr>\n",
              "    <tr>\n",
              "      <th>region</th>\n",
              "      <th></th>\n",
              "    </tr>\n",
              "  </thead>\n",
              "  <tbody>\n",
              "    <tr>\n",
              "      <th>APAC</th>\n",
              "      <td>169.09</td>\n",
              "    </tr>\n",
              "    <tr>\n",
              "      <th>Africa</th>\n",
              "      <td>172.60</td>\n",
              "    </tr>\n",
              "    <tr>\n",
              "      <th>Europe</th>\n",
              "      <td>165.89</td>\n",
              "    </tr>\n",
              "    <tr>\n",
              "      <th>LatAm</th>\n",
              "      <td>173.20</td>\n",
              "    </tr>\n",
              "    <tr>\n",
              "      <th>Middle East</th>\n",
              "      <td>171.71</td>\n",
              "    </tr>\n",
              "    <tr>\n",
              "      <th>North America</th>\n",
              "      <td>174.00</td>\n",
              "    </tr>\n",
              "  </tbody>\n",
              "</table>\n",
              "</div><br><label><b>dtype:</b> float64</label>"
            ]
          },
          "metadata": {},
          "execution_count": 50
        }
      ]
    },
    {
      "cell_type": "markdown",
      "source": [
        "9. **Filtra** a clientes **`Pro`** y **agrupa** por `acquisition_channel` para calcular **marketing_spend total**.\n"
      ],
      "metadata": {
        "id": "-HGz_njqkht4"
      },
      "id": "-HGz_njqkht4"
    },
    {
      "cell_type": "code",
      "source": [
        "mstotal=df[df['customer_tier']=='Pro'].groupby('acquisition_channel')['marketing_spend'].sum()\n",
        "mstotal"
      ],
      "metadata": {
        "id": "XKoIbLfVkiYV",
        "colab": {
          "base_uri": "https://localhost:8080/",
          "height": 241
        },
        "outputId": "04f6d961-2b36-424d-9635-2088f50b05f2"
      },
      "id": "XKoIbLfVkiYV",
      "execution_count": 51,
      "outputs": [
        {
          "output_type": "execute_result",
          "data": {
            "text/plain": [
              "acquisition_channel\n",
              "google_ads       226,721.68\n",
              "meta_ads         211,517.60\n",
              "organic_search    29,848.72\n",
              "outbound_sales   121,177.04\n",
              "Name: marketing_spend, dtype: float64"
            ],
            "text/html": [
              "<div>\n",
              "<style scoped>\n",
              "    .dataframe tbody tr th:only-of-type {\n",
              "        vertical-align: middle;\n",
              "    }\n",
              "\n",
              "    .dataframe tbody tr th {\n",
              "        vertical-align: top;\n",
              "    }\n",
              "\n",
              "    .dataframe thead th {\n",
              "        text-align: right;\n",
              "    }\n",
              "</style>\n",
              "<table border=\"1\" class=\"dataframe\">\n",
              "  <thead>\n",
              "    <tr style=\"text-align: right;\">\n",
              "      <th></th>\n",
              "      <th>marketing_spend</th>\n",
              "    </tr>\n",
              "    <tr>\n",
              "      <th>acquisition_channel</th>\n",
              "      <th></th>\n",
              "    </tr>\n",
              "  </thead>\n",
              "  <tbody>\n",
              "    <tr>\n",
              "      <th>google_ads</th>\n",
              "      <td>226,721.68</td>\n",
              "    </tr>\n",
              "    <tr>\n",
              "      <th>meta_ads</th>\n",
              "      <td>211,517.60</td>\n",
              "    </tr>\n",
              "    <tr>\n",
              "      <th>organic_search</th>\n",
              "      <td>29,848.72</td>\n",
              "    </tr>\n",
              "    <tr>\n",
              "      <th>outbound_sales</th>\n",
              "      <td>121,177.04</td>\n",
              "    </tr>\n",
              "  </tbody>\n",
              "</table>\n",
              "</div><br><label><b>dtype:</b> float64</label>"
            ]
          },
          "metadata": {},
          "execution_count": 51
        }
      ]
    },
    {
      "cell_type": "markdown",
      "metadata": {
        "id": "ZQ1HYAXmhia6"
      },
      "source": [
        "## 📈 Parte D – Métricas de negocio (CAC, LTV, LTV/CAC)\n",
        "10. **CAC por canal (Agrupa)**: calcula el CAC de cada `acquisition_channel` como:  \n",
        "   `CAC = marketing_spend_total_del_canal / #clientes_del_canal`  \n"
      ],
      "id": "ZQ1HYAXmhia6"
    },
    {
      "cell_type": "code",
      "metadata": {
        "id": "KpT2rkY0hia6",
        "colab": {
          "base_uri": "https://localhost:8080/",
          "height": 241
        },
        "outputId": "1523ab04-4eda-4855-aef7-74e817dd56bf"
      },
      "execution_count": 90,
      "outputs": [
        {
          "output_type": "execute_result",
          "data": {
            "text/plain": [
              "acquisition_channel\n",
              "google_ads       401.02\n",
              "meta_ads         349.27\n",
              "organic_search    49.95\n",
              "outbound_sales   200.22\n",
              "dtype: float64"
            ],
            "text/html": [
              "<div>\n",
              "<style scoped>\n",
              "    .dataframe tbody tr th:only-of-type {\n",
              "        vertical-align: middle;\n",
              "    }\n",
              "\n",
              "    .dataframe tbody tr th {\n",
              "        vertical-align: top;\n",
              "    }\n",
              "\n",
              "    .dataframe thead th {\n",
              "        text-align: right;\n",
              "    }\n",
              "</style>\n",
              "<table border=\"1\" class=\"dataframe\">\n",
              "  <thead>\n",
              "    <tr style=\"text-align: right;\">\n",
              "      <th></th>\n",
              "      <th>0</th>\n",
              "    </tr>\n",
              "    <tr>\n",
              "      <th>acquisition_channel</th>\n",
              "      <th></th>\n",
              "    </tr>\n",
              "  </thead>\n",
              "  <tbody>\n",
              "    <tr>\n",
              "      <th>google_ads</th>\n",
              "      <td>401.02</td>\n",
              "    </tr>\n",
              "    <tr>\n",
              "      <th>meta_ads</th>\n",
              "      <td>349.27</td>\n",
              "    </tr>\n",
              "    <tr>\n",
              "      <th>organic_search</th>\n",
              "      <td>49.95</td>\n",
              "    </tr>\n",
              "    <tr>\n",
              "      <th>outbound_sales</th>\n",
              "      <td>200.22</td>\n",
              "    </tr>\n",
              "  </tbody>\n",
              "</table>\n",
              "</div><br><label><b>dtype:</b> float64</label>"
            ]
          },
          "metadata": {},
          "execution_count": 90
        }
      ],
      "source": [
        "CAC_Por_Canal=df.groupby('acquisition_channel')['marketing_spend'].sum()/df.groupby('acquisition_channel')['customer_id'].count().sort_values(ascending=False)\n",
        "CAC_Por_Canal"
      ],
      "id": "KpT2rkY0hia6"
    },
    {
      "cell_type": "markdown",
      "source": [
        "11. **CAC por tier (Agrupa)**: calcula el CAC de cada `customer_tier` como:  \n",
        "   `CAC = marketing_spend_total_del_tier / #clientes_del_canal`  \n"
      ],
      "metadata": {
        "id": "Dtyl7uKTmaJi"
      },
      "id": "Dtyl7uKTmaJi"
    },
    {
      "cell_type": "code",
      "source": [
        "CAC_POR_TIER=df.groupby('customer_tier')['marketing_spend'].sum()/df.groupby('customer_tier')['customer_id'].count()\n",
        "CAC_POR_TIER"
      ],
      "metadata": {
        "id": "xAR6WFylmoPI",
        "colab": {
          "base_uri": "https://localhost:8080/",
          "height": 210
        },
        "outputId": "4191821e-681d-4047-976c-7e59364c0880"
      },
      "id": "xAR6WFylmoPI",
      "execution_count": 53,
      "outputs": [
        {
          "output_type": "execute_result",
          "data": {
            "text/plain": [
              "customer_tier\n",
              "Basic        249.75\n",
              "Enterprise   249.19\n",
              "Pro          248.43\n",
              "dtype: float64"
            ],
            "text/html": [
              "<div>\n",
              "<style scoped>\n",
              "    .dataframe tbody tr th:only-of-type {\n",
              "        vertical-align: middle;\n",
              "    }\n",
              "\n",
              "    .dataframe tbody tr th {\n",
              "        vertical-align: top;\n",
              "    }\n",
              "\n",
              "    .dataframe thead th {\n",
              "        text-align: right;\n",
              "    }\n",
              "</style>\n",
              "<table border=\"1\" class=\"dataframe\">\n",
              "  <thead>\n",
              "    <tr style=\"text-align: right;\">\n",
              "      <th></th>\n",
              "      <th>0</th>\n",
              "    </tr>\n",
              "    <tr>\n",
              "      <th>customer_tier</th>\n",
              "      <th></th>\n",
              "    </tr>\n",
              "  </thead>\n",
              "  <tbody>\n",
              "    <tr>\n",
              "      <th>Basic</th>\n",
              "      <td>249.75</td>\n",
              "    </tr>\n",
              "    <tr>\n",
              "      <th>Enterprise</th>\n",
              "      <td>249.19</td>\n",
              "    </tr>\n",
              "    <tr>\n",
              "      <th>Pro</th>\n",
              "      <td>248.43</td>\n",
              "    </tr>\n",
              "  </tbody>\n",
              "</table>\n",
              "</div><br><label><b>dtype:</b> float64</label>"
            ]
          },
          "metadata": {},
          "execution_count": 53
        }
      ]
    },
    {
      "cell_type": "markdown",
      "source": [
        "12. **LTV por tier (Ambas)**: crea una columna `ltv_individual` con la fórmula dada.\n"
      ],
      "metadata": {
        "id": "BL42ZC46mvfJ"
      },
      "id": "BL42ZC46mvfJ"
    },
    {
      "cell_type": "code",
      "source": [
        "df['ltv_individual'] = df['arpu'] * df['contract_length_months'] * df['gross_margin'] * (1 - df['churn_rate'])\n",
        "df.head()"
      ],
      "metadata": {
        "id": "cAx0zUG7nxXD",
        "colab": {
          "base_uri": "https://localhost:8080/",
          "height": 206
        },
        "outputId": "23be16a5-1f1f-4762-c86a-1c49214701ad"
      },
      "id": "cAx0zUG7nxXD",
      "execution_count": 60,
      "outputs": [
        {
          "output_type": "execute_result",
          "data": {
            "text/plain": [
              "   year  month    date  customer_id acquisition_channel signup_source  \\\n",
              "0  2023      1  Jan-23         1001      outbound_sales           web   \n",
              "1  2023      1  Jan-23         1002            meta_ads           web   \n",
              "2  2023      1  Jan-23         1003      organic_search    mobile_app   \n",
              "3  2023      1  Jan-23         1004      organic_search           web   \n",
              "4  2023      1  Jan-23         1005      organic_search           web   \n",
              "\n",
              "          region customer_tier  plan_price  discount_rate   arpu  \\\n",
              "0  North America         Basic       78.84           0.10  63.63   \n",
              "1          LatAm           Pro      120.23           0.00 124.47   \n",
              "2  North America    Enterprise      335.82           0.20 278.20   \n",
              "3         Europe           Pro      193.89           0.10 190.65   \n",
              "4           APAC    Enterprise      471.80           0.10 445.32   \n",
              "\n",
              "   gross_margin  churn_rate  contract_length_months  marketing_spend  \\\n",
              "0          0.76        0.02                      12           212.48   \n",
              "1          0.84        0.05                       1           352.60   \n",
              "2          0.81        0.02                      12            55.40   \n",
              "3          0.80        0.08                       1            49.10   \n",
              "4          0.80        0.08                       1            45.27   \n",
              "\n",
              "   ltv_individual  \n",
              "0          567.54  \n",
              "1           99.20  \n",
              "2        2,651.91  \n",
              "3          139.68  \n",
              "4          328.72  "
            ],
            "text/html": [
              "\n",
              "  <div id=\"df-80c013c7-72dd-4f27-bad3-4254db00337a\" class=\"colab-df-container\">\n",
              "    <div>\n",
              "<style scoped>\n",
              "    .dataframe tbody tr th:only-of-type {\n",
              "        vertical-align: middle;\n",
              "    }\n",
              "\n",
              "    .dataframe tbody tr th {\n",
              "        vertical-align: top;\n",
              "    }\n",
              "\n",
              "    .dataframe thead th {\n",
              "        text-align: right;\n",
              "    }\n",
              "</style>\n",
              "<table border=\"1\" class=\"dataframe\">\n",
              "  <thead>\n",
              "    <tr style=\"text-align: right;\">\n",
              "      <th></th>\n",
              "      <th>year</th>\n",
              "      <th>month</th>\n",
              "      <th>date</th>\n",
              "      <th>customer_id</th>\n",
              "      <th>acquisition_channel</th>\n",
              "      <th>signup_source</th>\n",
              "      <th>region</th>\n",
              "      <th>customer_tier</th>\n",
              "      <th>plan_price</th>\n",
              "      <th>discount_rate</th>\n",
              "      <th>arpu</th>\n",
              "      <th>gross_margin</th>\n",
              "      <th>churn_rate</th>\n",
              "      <th>contract_length_months</th>\n",
              "      <th>marketing_spend</th>\n",
              "      <th>ltv_individual</th>\n",
              "    </tr>\n",
              "  </thead>\n",
              "  <tbody>\n",
              "    <tr>\n",
              "      <th>0</th>\n",
              "      <td>2023</td>\n",
              "      <td>1</td>\n",
              "      <td>Jan-23</td>\n",
              "      <td>1001</td>\n",
              "      <td>outbound_sales</td>\n",
              "      <td>web</td>\n",
              "      <td>North America</td>\n",
              "      <td>Basic</td>\n",
              "      <td>78.84</td>\n",
              "      <td>0.10</td>\n",
              "      <td>63.63</td>\n",
              "      <td>0.76</td>\n",
              "      <td>0.02</td>\n",
              "      <td>12</td>\n",
              "      <td>212.48</td>\n",
              "      <td>567.54</td>\n",
              "    </tr>\n",
              "    <tr>\n",
              "      <th>1</th>\n",
              "      <td>2023</td>\n",
              "      <td>1</td>\n",
              "      <td>Jan-23</td>\n",
              "      <td>1002</td>\n",
              "      <td>meta_ads</td>\n",
              "      <td>web</td>\n",
              "      <td>LatAm</td>\n",
              "      <td>Pro</td>\n",
              "      <td>120.23</td>\n",
              "      <td>0.00</td>\n",
              "      <td>124.47</td>\n",
              "      <td>0.84</td>\n",
              "      <td>0.05</td>\n",
              "      <td>1</td>\n",
              "      <td>352.60</td>\n",
              "      <td>99.20</td>\n",
              "    </tr>\n",
              "    <tr>\n",
              "      <th>2</th>\n",
              "      <td>2023</td>\n",
              "      <td>1</td>\n",
              "      <td>Jan-23</td>\n",
              "      <td>1003</td>\n",
              "      <td>organic_search</td>\n",
              "      <td>mobile_app</td>\n",
              "      <td>North America</td>\n",
              "      <td>Enterprise</td>\n",
              "      <td>335.82</td>\n",
              "      <td>0.20</td>\n",
              "      <td>278.20</td>\n",
              "      <td>0.81</td>\n",
              "      <td>0.02</td>\n",
              "      <td>12</td>\n",
              "      <td>55.40</td>\n",
              "      <td>2,651.91</td>\n",
              "    </tr>\n",
              "    <tr>\n",
              "      <th>3</th>\n",
              "      <td>2023</td>\n",
              "      <td>1</td>\n",
              "      <td>Jan-23</td>\n",
              "      <td>1004</td>\n",
              "      <td>organic_search</td>\n",
              "      <td>web</td>\n",
              "      <td>Europe</td>\n",
              "      <td>Pro</td>\n",
              "      <td>193.89</td>\n",
              "      <td>0.10</td>\n",
              "      <td>190.65</td>\n",
              "      <td>0.80</td>\n",
              "      <td>0.08</td>\n",
              "      <td>1</td>\n",
              "      <td>49.10</td>\n",
              "      <td>139.68</td>\n",
              "    </tr>\n",
              "    <tr>\n",
              "      <th>4</th>\n",
              "      <td>2023</td>\n",
              "      <td>1</td>\n",
              "      <td>Jan-23</td>\n",
              "      <td>1005</td>\n",
              "      <td>organic_search</td>\n",
              "      <td>web</td>\n",
              "      <td>APAC</td>\n",
              "      <td>Enterprise</td>\n",
              "      <td>471.80</td>\n",
              "      <td>0.10</td>\n",
              "      <td>445.32</td>\n",
              "      <td>0.80</td>\n",
              "      <td>0.08</td>\n",
              "      <td>1</td>\n",
              "      <td>45.27</td>\n",
              "      <td>328.72</td>\n",
              "    </tr>\n",
              "  </tbody>\n",
              "</table>\n",
              "</div>\n",
              "    <div class=\"colab-df-buttons\">\n",
              "\n",
              "  <div class=\"colab-df-container\">\n",
              "    <button class=\"colab-df-convert\" onclick=\"convertToInteractive('df-80c013c7-72dd-4f27-bad3-4254db00337a')\"\n",
              "            title=\"Convert this dataframe to an interactive table.\"\n",
              "            style=\"display:none;\">\n",
              "\n",
              "  <svg xmlns=\"http://www.w3.org/2000/svg\" height=\"24px\" viewBox=\"0 -960 960 960\">\n",
              "    <path d=\"M120-120v-720h720v720H120Zm60-500h600v-160H180v160Zm220 220h160v-160H400v160Zm0 220h160v-160H400v160ZM180-400h160v-160H180v160Zm440 0h160v-160H620v160ZM180-180h160v-160H180v160Zm440 0h160v-160H620v160Z\"/>\n",
              "  </svg>\n",
              "    </button>\n",
              "\n",
              "  <style>\n",
              "    .colab-df-container {\n",
              "      display:flex;\n",
              "      gap: 12px;\n",
              "    }\n",
              "\n",
              "    .colab-df-convert {\n",
              "      background-color: #E8F0FE;\n",
              "      border: none;\n",
              "      border-radius: 50%;\n",
              "      cursor: pointer;\n",
              "      display: none;\n",
              "      fill: #1967D2;\n",
              "      height: 32px;\n",
              "      padding: 0 0 0 0;\n",
              "      width: 32px;\n",
              "    }\n",
              "\n",
              "    .colab-df-convert:hover {\n",
              "      background-color: #E2EBFA;\n",
              "      box-shadow: 0px 1px 2px rgba(60, 64, 67, 0.3), 0px 1px 3px 1px rgba(60, 64, 67, 0.15);\n",
              "      fill: #174EA6;\n",
              "    }\n",
              "\n",
              "    .colab-df-buttons div {\n",
              "      margin-bottom: 4px;\n",
              "    }\n",
              "\n",
              "    [theme=dark] .colab-df-convert {\n",
              "      background-color: #3B4455;\n",
              "      fill: #D2E3FC;\n",
              "    }\n",
              "\n",
              "    [theme=dark] .colab-df-convert:hover {\n",
              "      background-color: #434B5C;\n",
              "      box-shadow: 0px 1px 3px 1px rgba(0, 0, 0, 0.15);\n",
              "      filter: drop-shadow(0px 1px 2px rgba(0, 0, 0, 0.3));\n",
              "      fill: #FFFFFF;\n",
              "    }\n",
              "  </style>\n",
              "\n",
              "    <script>\n",
              "      const buttonEl =\n",
              "        document.querySelector('#df-80c013c7-72dd-4f27-bad3-4254db00337a button.colab-df-convert');\n",
              "      buttonEl.style.display =\n",
              "        google.colab.kernel.accessAllowed ? 'block' : 'none';\n",
              "\n",
              "      async function convertToInteractive(key) {\n",
              "        const element = document.querySelector('#df-80c013c7-72dd-4f27-bad3-4254db00337a');\n",
              "        const dataTable =\n",
              "          await google.colab.kernel.invokeFunction('convertToInteractive',\n",
              "                                                    [key], {});\n",
              "        if (!dataTable) return;\n",
              "\n",
              "        const docLinkHtml = 'Like what you see? Visit the ' +\n",
              "          '<a target=\"_blank\" href=https://colab.research.google.com/notebooks/data_table.ipynb>data table notebook</a>'\n",
              "          + ' to learn more about interactive tables.';\n",
              "        element.innerHTML = '';\n",
              "        dataTable['output_type'] = 'display_data';\n",
              "        await google.colab.output.renderOutput(dataTable, element);\n",
              "        const docLink = document.createElement('div');\n",
              "        docLink.innerHTML = docLinkHtml;\n",
              "        element.appendChild(docLink);\n",
              "      }\n",
              "    </script>\n",
              "  </div>\n",
              "\n",
              "\n",
              "    <div id=\"df-3ec59ff9-d332-4460-bd2b-fc61367afb76\">\n",
              "      <button class=\"colab-df-quickchart\" onclick=\"quickchart('df-3ec59ff9-d332-4460-bd2b-fc61367afb76')\"\n",
              "                title=\"Suggest charts\"\n",
              "                style=\"display:none;\">\n",
              "\n",
              "<svg xmlns=\"http://www.w3.org/2000/svg\" height=\"24px\"viewBox=\"0 0 24 24\"\n",
              "     width=\"24px\">\n",
              "    <g>\n",
              "        <path d=\"M19 3H5c-1.1 0-2 .9-2 2v14c0 1.1.9 2 2 2h14c1.1 0 2-.9 2-2V5c0-1.1-.9-2-2-2zM9 17H7v-7h2v7zm4 0h-2V7h2v10zm4 0h-2v-4h2v4z\"/>\n",
              "    </g>\n",
              "</svg>\n",
              "      </button>\n",
              "\n",
              "<style>\n",
              "  .colab-df-quickchart {\n",
              "      --bg-color: #E8F0FE;\n",
              "      --fill-color: #1967D2;\n",
              "      --hover-bg-color: #E2EBFA;\n",
              "      --hover-fill-color: #174EA6;\n",
              "      --disabled-fill-color: #AAA;\n",
              "      --disabled-bg-color: #DDD;\n",
              "  }\n",
              "\n",
              "  [theme=dark] .colab-df-quickchart {\n",
              "      --bg-color: #3B4455;\n",
              "      --fill-color: #D2E3FC;\n",
              "      --hover-bg-color: #434B5C;\n",
              "      --hover-fill-color: #FFFFFF;\n",
              "      --disabled-bg-color: #3B4455;\n",
              "      --disabled-fill-color: #666;\n",
              "  }\n",
              "\n",
              "  .colab-df-quickchart {\n",
              "    background-color: var(--bg-color);\n",
              "    border: none;\n",
              "    border-radius: 50%;\n",
              "    cursor: pointer;\n",
              "    display: none;\n",
              "    fill: var(--fill-color);\n",
              "    height: 32px;\n",
              "    padding: 0;\n",
              "    width: 32px;\n",
              "  }\n",
              "\n",
              "  .colab-df-quickchart:hover {\n",
              "    background-color: var(--hover-bg-color);\n",
              "    box-shadow: 0 1px 2px rgba(60, 64, 67, 0.3), 0 1px 3px 1px rgba(60, 64, 67, 0.15);\n",
              "    fill: var(--button-hover-fill-color);\n",
              "  }\n",
              "\n",
              "  .colab-df-quickchart-complete:disabled,\n",
              "  .colab-df-quickchart-complete:disabled:hover {\n",
              "    background-color: var(--disabled-bg-color);\n",
              "    fill: var(--disabled-fill-color);\n",
              "    box-shadow: none;\n",
              "  }\n",
              "\n",
              "  .colab-df-spinner {\n",
              "    border: 2px solid var(--fill-color);\n",
              "    border-color: transparent;\n",
              "    border-bottom-color: var(--fill-color);\n",
              "    animation:\n",
              "      spin 1s steps(1) infinite;\n",
              "  }\n",
              "\n",
              "  @keyframes spin {\n",
              "    0% {\n",
              "      border-color: transparent;\n",
              "      border-bottom-color: var(--fill-color);\n",
              "      border-left-color: var(--fill-color);\n",
              "    }\n",
              "    20% {\n",
              "      border-color: transparent;\n",
              "      border-left-color: var(--fill-color);\n",
              "      border-top-color: var(--fill-color);\n",
              "    }\n",
              "    30% {\n",
              "      border-color: transparent;\n",
              "      border-left-color: var(--fill-color);\n",
              "      border-top-color: var(--fill-color);\n",
              "      border-right-color: var(--fill-color);\n",
              "    }\n",
              "    40% {\n",
              "      border-color: transparent;\n",
              "      border-right-color: var(--fill-color);\n",
              "      border-top-color: var(--fill-color);\n",
              "    }\n",
              "    60% {\n",
              "      border-color: transparent;\n",
              "      border-right-color: var(--fill-color);\n",
              "    }\n",
              "    80% {\n",
              "      border-color: transparent;\n",
              "      border-right-color: var(--fill-color);\n",
              "      border-bottom-color: var(--fill-color);\n",
              "    }\n",
              "    90% {\n",
              "      border-color: transparent;\n",
              "      border-bottom-color: var(--fill-color);\n",
              "    }\n",
              "  }\n",
              "</style>\n",
              "\n",
              "      <script>\n",
              "        async function quickchart(key) {\n",
              "          const quickchartButtonEl =\n",
              "            document.querySelector('#' + key + ' button');\n",
              "          quickchartButtonEl.disabled = true;  // To prevent multiple clicks.\n",
              "          quickchartButtonEl.classList.add('colab-df-spinner');\n",
              "          try {\n",
              "            const charts = await google.colab.kernel.invokeFunction(\n",
              "                'suggestCharts', [key], {});\n",
              "          } catch (error) {\n",
              "            console.error('Error during call to suggestCharts:', error);\n",
              "          }\n",
              "          quickchartButtonEl.classList.remove('colab-df-spinner');\n",
              "          quickchartButtonEl.classList.add('colab-df-quickchart-complete');\n",
              "        }\n",
              "        (() => {\n",
              "          let quickchartButtonEl =\n",
              "            document.querySelector('#df-3ec59ff9-d332-4460-bd2b-fc61367afb76 button');\n",
              "          quickchartButtonEl.style.display =\n",
              "            google.colab.kernel.accessAllowed ? 'block' : 'none';\n",
              "        })();\n",
              "      </script>\n",
              "    </div>\n",
              "\n",
              "    </div>\n",
              "  </div>\n"
            ],
            "application/vnd.google.colaboratory.intrinsic+json": {
              "type": "dataframe",
              "variable_name": "df",
              "summary": "{\n  \"name\": \"df\",\n  \"rows\": 7057,\n  \"fields\": [\n    {\n      \"column\": \"year\",\n      \"properties\": {\n        \"dtype\": \"number\",\n        \"std\": 0,\n        \"min\": 2023,\n        \"max\": 2024,\n        \"num_unique_values\": 2,\n        \"samples\": [\n          2024,\n          2023\n        ],\n        \"semantic_type\": \"\",\n        \"description\": \"\"\n      }\n    },\n    {\n      \"column\": \"month\",\n      \"properties\": {\n        \"dtype\": \"number\",\n        \"std\": 3,\n        \"min\": 1,\n        \"max\": 12,\n        \"num_unique_values\": 12,\n        \"samples\": [\n          11,\n          10\n        ],\n        \"semantic_type\": \"\",\n        \"description\": \"\"\n      }\n    },\n    {\n      \"column\": \"date\",\n      \"properties\": {\n        \"dtype\": \"category\",\n        \"num_unique_values\": 24,\n        \"samples\": [\n          \"Sep-23\",\n          \"May-24\"\n        ],\n        \"semantic_type\": \"\",\n        \"description\": \"\"\n      }\n    },\n    {\n      \"column\": \"customer_id\",\n      \"properties\": {\n        \"dtype\": \"number\",\n        \"std\": 2037,\n        \"min\": 1001,\n        \"max\": 8057,\n        \"num_unique_values\": 7057,\n        \"samples\": [\n          4308,\n          6939\n        ],\n        \"semantic_type\": \"\",\n        \"description\": \"\"\n      }\n    },\n    {\n      \"column\": \"acquisition_channel\",\n      \"properties\": {\n        \"dtype\": \"category\",\n        \"num_unique_values\": 4,\n        \"samples\": [\n          \"meta_ads\",\n          \"google_ads\"\n        ],\n        \"semantic_type\": \"\",\n        \"description\": \"\"\n      }\n    },\n    {\n      \"column\": \"signup_source\",\n      \"properties\": {\n        \"dtype\": \"category\",\n        \"num_unique_values\": 3,\n        \"samples\": [\n          \"web\",\n          \"mobile_app\"\n        ],\n        \"semantic_type\": \"\",\n        \"description\": \"\"\n      }\n    },\n    {\n      \"column\": \"region\",\n      \"properties\": {\n        \"dtype\": \"category\",\n        \"num_unique_values\": 6,\n        \"samples\": [\n          \"North America\",\n          \"LatAm\"\n        ],\n        \"semantic_type\": \"\",\n        \"description\": \"\"\n      }\n    },\n    {\n      \"column\": \"customer_tier\",\n      \"properties\": {\n        \"dtype\": \"category\",\n        \"num_unique_values\": 3,\n        \"samples\": [\n          \"Basic\",\n          \"Pro\"\n        ],\n        \"semantic_type\": \"\",\n        \"description\": \"\"\n      }\n    },\n    {\n      \"column\": \"plan_price\",\n      \"properties\": {\n        \"dtype\": \"number\",\n        \"std\": 126.80108957744072,\n        \"min\": 49.03,\n        \"max\": 498.98,\n        \"num_unique_values\": 6226,\n        \"samples\": [\n          103.95,\n          59.08\n        ],\n        \"semantic_type\": \"\",\n        \"description\": \"\"\n      }\n    },\n    {\n      \"column\": \"discount_rate\",\n      \"properties\": {\n        \"dtype\": \"number\",\n        \"std\": 0.08156278012247319,\n        \"min\": 0.0,\n        \"max\": 0.2,\n        \"num_unique_values\": 3,\n        \"samples\": [\n          0.1,\n          0.0\n        ],\n        \"semantic_type\": \"\",\n        \"description\": \"\"\n      }\n    },\n    {\n      \"column\": \"arpu\",\n      \"properties\": {\n        \"dtype\": \"number\",\n        \"std\": 117.1886853383935,\n        \"min\": 34.18,\n        \"max\": 563.02,\n        \"num_unique_values\": 6207,\n        \"samples\": [\n          326.07,\n          78.19\n        ],\n        \"semantic_type\": \"\",\n        \"description\": \"\"\n      }\n    },\n    {\n      \"column\": \"gross_margin\",\n      \"properties\": {\n        \"dtype\": \"number\",\n        \"std\": 0.04375666078045694,\n        \"min\": 0.75,\n        \"max\": 0.9,\n        \"num_unique_values\": 16,\n        \"samples\": [\n          0.76,\n          0.84\n        ],\n        \"semantic_type\": \"\",\n        \"description\": \"\"\n      }\n    },\n    {\n      \"column\": \"churn_rate\",\n      \"properties\": {\n        \"dtype\": \"number\",\n        \"std\": 0.02951330160685637,\n        \"min\": 0.01,\n        \"max\": 0.1,\n        \"num_unique_values\": 702,\n        \"samples\": [\n          0.0121,\n          0.0532\n        ],\n        \"semantic_type\": \"\",\n        \"description\": \"\"\n      }\n    },\n    {\n      \"column\": \"contract_length_months\",\n      \"properties\": {\n        \"dtype\": \"number\",\n        \"std\": 5,\n        \"min\": 1,\n        \"max\": 12,\n        \"num_unique_values\": 2,\n        \"samples\": [\n          1,\n          12\n        ],\n        \"semantic_type\": \"\",\n        \"description\": \"\"\n      }\n    },\n    {\n      \"column\": \"marketing_spend\",\n      \"properties\": {\n        \"dtype\": \"number\",\n        \"std\": 139.32306575669227,\n        \"min\": 42.5,\n        \"max\": 459.99,\n        \"num_unique_values\": 5683,\n        \"samples\": [\n          193.62,\n          195.79\n        ],\n        \"semantic_type\": \"\",\n        \"description\": \"\"\n      }\n    },\n    {\n      \"column\": \"ltv_individual\",\n      \"properties\": {\n        \"dtype\": \"number\",\n        \"std\": 1038.605634975362,\n        \"min\": 25.71682608,\n        \"max\": 5699.34721524,\n        \"num_unique_values\": 7057,\n        \"samples\": [\n          946.4018126400001,\n          122.59399086\n        ],\n        \"semantic_type\": \"\",\n        \"description\": \"\"\n      }\n    }\n  ]\n}"
            }
          },
          "metadata": {},
          "execution_count": 60
        }
      ]
    },
    {
      "cell_type": "markdown",
      "source": [
        "12. A. Luego **agrupa** `ltv_individual` por\n",
        "`acquisition_channel` para obtener el **LTV promedio**.  "
      ],
      "metadata": {
        "id": "eGhf_AInnX7J"
      },
      "id": "eGhf_AInnX7J"
    },
    {
      "cell_type": "code",
      "source": [
        "groupbyLTVPromAChannel=df.groupby('acquisition_channel')['ltv_individual'].mean()\n",
        "groupbyLTVPromAChannel"
      ],
      "metadata": {
        "id": "bT_0NgYfmxUm",
        "colab": {
          "base_uri": "https://localhost:8080/",
          "height": 241
        },
        "outputId": "05fbfb82-717f-421d-b23a-734ef7b2f547"
      },
      "id": "bT_0NgYfmxUm",
      "execution_count": 61,
      "outputs": [
        {
          "output_type": "execute_result",
          "data": {
            "text/plain": [
              "acquisition_channel\n",
              "google_ads       710.25\n",
              "meta_ads         729.05\n",
              "organic_search   765.13\n",
              "outbound_sales   751.57\n",
              "Name: ltv_individual, dtype: float64"
            ],
            "text/html": [
              "<div>\n",
              "<style scoped>\n",
              "    .dataframe tbody tr th:only-of-type {\n",
              "        vertical-align: middle;\n",
              "    }\n",
              "\n",
              "    .dataframe tbody tr th {\n",
              "        vertical-align: top;\n",
              "    }\n",
              "\n",
              "    .dataframe thead th {\n",
              "        text-align: right;\n",
              "    }\n",
              "</style>\n",
              "<table border=\"1\" class=\"dataframe\">\n",
              "  <thead>\n",
              "    <tr style=\"text-align: right;\">\n",
              "      <th></th>\n",
              "      <th>ltv_individual</th>\n",
              "    </tr>\n",
              "    <tr>\n",
              "      <th>acquisition_channel</th>\n",
              "      <th></th>\n",
              "    </tr>\n",
              "  </thead>\n",
              "  <tbody>\n",
              "    <tr>\n",
              "      <th>google_ads</th>\n",
              "      <td>710.25</td>\n",
              "    </tr>\n",
              "    <tr>\n",
              "      <th>meta_ads</th>\n",
              "      <td>729.05</td>\n",
              "    </tr>\n",
              "    <tr>\n",
              "      <th>organic_search</th>\n",
              "      <td>765.13</td>\n",
              "    </tr>\n",
              "    <tr>\n",
              "      <th>outbound_sales</th>\n",
              "      <td>751.57</td>\n",
              "    </tr>\n",
              "  </tbody>\n",
              "</table>\n",
              "</div><br><label><b>dtype:</b> float64</label>"
            ]
          },
          "metadata": {},
          "execution_count": 61
        }
      ]
    },
    {
      "cell_type": "markdown",
      "source": [
        "12. B. Luego **agrupa** `ltv_individual`por `customer_tier` para obtener el **LTV promedio**.\n",
        "\n",
        "\n",
        "\n"
      ],
      "metadata": {
        "id": "fTeWGE2-lJMM"
      },
      "id": "fTeWGE2-lJMM"
    },
    {
      "cell_type": "code",
      "source": [
        "groupbyLTVPromCT= df.groupby('customer_tier')['ltv_individual'].mean()\n",
        "groupbyLTVPromCT"
      ],
      "metadata": {
        "id": "Gmzebd7JlB5C",
        "colab": {
          "base_uri": "https://localhost:8080/",
          "height": 210
        },
        "outputId": "d80ebdaa-8a80-418a-e780-7601f5d4f3f7"
      },
      "id": "Gmzebd7JlB5C",
      "execution_count": 78,
      "outputs": [
        {
          "output_type": "execute_result",
          "data": {
            "text/plain": [
              "customer_tier\n",
              "Basic          291.77\n",
              "Enterprise   1,349.02\n",
              "Pro            577.63\n",
              "Name: ltv_individual, dtype: float64"
            ],
            "text/html": [
              "<div>\n",
              "<style scoped>\n",
              "    .dataframe tbody tr th:only-of-type {\n",
              "        vertical-align: middle;\n",
              "    }\n",
              "\n",
              "    .dataframe tbody tr th {\n",
              "        vertical-align: top;\n",
              "    }\n",
              "\n",
              "    .dataframe thead th {\n",
              "        text-align: right;\n",
              "    }\n",
              "</style>\n",
              "<table border=\"1\" class=\"dataframe\">\n",
              "  <thead>\n",
              "    <tr style=\"text-align: right;\">\n",
              "      <th></th>\n",
              "      <th>ltv_individual</th>\n",
              "    </tr>\n",
              "    <tr>\n",
              "      <th>customer_tier</th>\n",
              "      <th></th>\n",
              "    </tr>\n",
              "  </thead>\n",
              "  <tbody>\n",
              "    <tr>\n",
              "      <th>Basic</th>\n",
              "      <td>291.77</td>\n",
              "    </tr>\n",
              "    <tr>\n",
              "      <th>Enterprise</th>\n",
              "      <td>1,349.02</td>\n",
              "    </tr>\n",
              "    <tr>\n",
              "      <th>Pro</th>\n",
              "      <td>577.63</td>\n",
              "    </tr>\n",
              "  </tbody>\n",
              "</table>\n",
              "</div><br><label><b>dtype:</b> float64</label>"
            ]
          },
          "metadata": {},
          "execution_count": 78
        }
      ]
    },
    {
      "cell_type": "markdown",
      "source": [
        "13. **Unit economics (Ambas)**: combina tus resultados para comparar **LTV promedio por tier** contra **CAC por canal** y comenta **qué combinaciones canal + tier** lucen más saludables (busca **LTV/CAC > 3**).\n"
      ],
      "metadata": {
        "id": "iC8EKMVhlK3e"
      },
      "id": "iC8EKMVhlK3e"
    },
    {
      "cell_type": "code",
      "source": [
        "UE=groupbyLTVPromAChannel/CAC_Por_Canal\n",
        "UE"
      ],
      "metadata": {
        "id": "hysu2126oCoR",
        "colab": {
          "base_uri": "https://localhost:8080/",
          "height": 241
        },
        "outputId": "112712c7-b78d-462e-833f-5784dc303d49"
      },
      "id": "hysu2126oCoR",
      "execution_count": 89,
      "outputs": [
        {
          "output_type": "execute_result",
          "data": {
            "text/plain": [
              "acquisition_channel\n",
              "google_ads        1.77\n",
              "meta_ads          2.09\n",
              "organic_search   15.32\n",
              "outbound_sales    3.75\n",
              "dtype: float64"
            ],
            "text/html": [
              "<div>\n",
              "<style scoped>\n",
              "    .dataframe tbody tr th:only-of-type {\n",
              "        vertical-align: middle;\n",
              "    }\n",
              "\n",
              "    .dataframe tbody tr th {\n",
              "        vertical-align: top;\n",
              "    }\n",
              "\n",
              "    .dataframe thead th {\n",
              "        text-align: right;\n",
              "    }\n",
              "</style>\n",
              "<table border=\"1\" class=\"dataframe\">\n",
              "  <thead>\n",
              "    <tr style=\"text-align: right;\">\n",
              "      <th></th>\n",
              "      <th>0</th>\n",
              "    </tr>\n",
              "    <tr>\n",
              "      <th>acquisition_channel</th>\n",
              "      <th></th>\n",
              "    </tr>\n",
              "  </thead>\n",
              "  <tbody>\n",
              "    <tr>\n",
              "      <th>google_ads</th>\n",
              "      <td>1.77</td>\n",
              "    </tr>\n",
              "    <tr>\n",
              "      <th>meta_ads</th>\n",
              "      <td>2.09</td>\n",
              "    </tr>\n",
              "    <tr>\n",
              "      <th>organic_search</th>\n",
              "      <td>15.32</td>\n",
              "    </tr>\n",
              "    <tr>\n",
              "      <th>outbound_sales</th>\n",
              "      <td>3.75</td>\n",
              "    </tr>\n",
              "  </tbody>\n",
              "</table>\n",
              "</div><br><label><b>dtype:</b> float64</label>"
            ]
          },
          "metadata": {},
          "execution_count": 89
        }
      ]
    },
    {
      "cell_type": "markdown",
      "source": [
        "***Las combinaciones Canal + Tier que resultan más saludables corresponden Oubound_Sales y Organic_Search***"
      ],
      "metadata": {
        "id": "rfZdAofgZlGn"
      },
      "id": "rfZdAofgZlGn"
    },
    {
      "cell_type": "markdown",
      "metadata": {
        "id": "kh-En2p1hia6"
      },
      "source": [
        "## 🧠 Parte E – Análisis crítico (respuesta abierta)\n",
        "13. **CMO por un día**: con tus resultados, ¿en qué **canal(es)** invertirías más el próximo trimestre? ¿Por qué? (Cita **CAC** y **churn**).  \n",
        "14. ¿Qué **región** ves con mayor riesgo? ¿Qué hipótesis explicarían su **churn**?  \n",
        "15. Identifica **dos combinaciones canal + tier** con mejor **LTV/CAC** y propón **dos acciones** concretas de optimización (p. ej., creatividades, audiencias, pricing, retención).\n",
        "\n",
        "---\n",
        "✍️ **Nota**: Mantente disciplinado con el enunciado (**Filtra**, **Agrupa**, **Ambas**). La evaluación pondera **correctitud técnica** y **calidad de interpretación de negocio**.\n"
      ],
      "id": "kh-En2p1hia6"
    },
    {
      "cell_type": "markdown",
      "source": [
        "13. Teniendo en cuenta que el Churn es igual en todos los canales, la decisión más estrategica sería invertir organic_search y outbound_sales. Debido a que son los canales que más rentabilidad me generan en el tiempo y en las que menos inversión tengo que hacer para convertir."
      ],
      "metadata": {
        "id": "onQEXA94aQIH"
      },
      "id": "onQEXA94aQIH"
    },
    {
      "cell_type": "markdown",
      "source": [
        "14. Todas las regiones tienen en promedio el mismo Churn, por lo que, a partir de la data evaluada no hay una región con mayor riesgo que otra. Esto a partir de las variables consideradas."
      ],
      "metadata": {
        "id": "eT6iprsrb-eA"
      },
      "id": "eT6iprsrb-eA"
    },
    {
      "cell_type": "markdown",
      "source": [
        "***Primera Combinación***\n",
        "1. Organic_Search: Una acción que nos puede ayudar a optimizar este canal es generar contenido de valor para el usuario, escribiendolo con términos que nos ayuden a lograr un buen SEO sin pauta. La segunda puede ser incentivar la creación de contenido UGC incentivando a nuestros clientes a compartir su experiencia con una dinámica creada en nuestras redes sociales que puede incluir un premio.\n",
        "\n",
        "***Segunda Combinación***\n",
        "2. Outbound_Sales: Una acción que me puede ayudar a optimizar este canal puede ser ofrecer un valor agregado por cada compra realizada de un tier especifico dentro de un punto de venta. Esto con el objetivo de que el cliente pueda encontrar un incentivo para ir al punto de venta y no adquirir nuestro servicio desde el .com. Otra acción que puede funcionar es generar puntos de activación de acuerdo a las campañas vigentes o estacionalidad en la que se encuentre el punto de venta. Esta iniciativa nos puede ayudar a incentivar el tráfico y también nos puede ayudar a nutrir el contenido organico que puede contribuir a la optimización de nuestro Organica_Search."
      ],
      "metadata": {
        "id": "VYSdYWWadwbg"
      },
      "id": "VYSdYWWadwbg"
    }
  ],
  "metadata": {
    "kernelspec": {
      "display_name": "Python 3",
      "language": "python",
      "name": "python3"
    },
    "language_info": {
      "name": "python",
      "version": "3.10"
    },
    "colab": {
      "provenance": []
    }
  },
  "nbformat": 4,
  "nbformat_minor": 5
}